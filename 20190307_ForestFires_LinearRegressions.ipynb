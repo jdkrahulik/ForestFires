{
 "cells": [
  {
   "cell_type": "markdown",
   "metadata": {},
   "source": [
    "# Predicting Forest Fires\n",
    "\n",
    "\n",
    "In this notebook I will explore different machine learning regression algorithms to see how well they can predict forest fire outcomes. In this notebook I will examine the different merits and drawbacks of using multiple linear regression, polynomial regression, SVM regression, and random forest regression.\n"
   ]
  },
  {
   "cell_type": "markdown",
   "metadata": {},
   "source": [
    "All X features are scaled and y has been transformed."
   ]
  },
  {
   "cell_type": "markdown",
   "metadata": {},
   "source": [
    "# Model\n",
    "\n",
    "I will perform a series of operations on this dataset to understand the different pros and cons of each type of regression algorithm"
   ]
  },
  {
   "cell_type": "code",
   "execution_count": 2,
   "metadata": {},
   "outputs": [],
   "source": [
    "import pandas as pd\n",
    "import numpy as np\n",
    "import matplotlib.pyplot as plt"
   ]
  },
  {
   "cell_type": "code",
   "execution_count": 22,
   "metadata": {},
   "outputs": [],
   "source": [
    "# Import data from flat file\n",
    "\n",
    "# Set path\n",
    "path = 'DRV_ForestFires.csv'\n",
    "data = pd.read_csv(path)\n",
    "data.head()\n",
    "\n",
    "X_train = pd.read_csv('DRV_ForestFires_XTrain.txt').values\n",
    "X_test = pd.read_csv('DRV_ForestFires_XTest.txt').values\n",
    "y_train = pd.read_csv('DRV_ForestFires_yTrain.txt').values\n",
    "y_test = pd.read_csv('DRV_ForestFires_yTest.txt').values\n",
    "\n",
    "y_train = np.ravel(y_train)\n",
    "y_test = np.ravel(y_test)"
   ]
  },
  {
   "cell_type": "markdown",
   "metadata": {},
   "source": [
    "## Multiple Linear Regression with Backwards Elimination"
   ]
  },
  {
   "cell_type": "code",
   "execution_count": 23,
   "metadata": {},
   "outputs": [],
   "source": [
    "from sklearn.linear_model import LinearRegression\n",
    "from sklearn.feature_selection import RFE\n",
    "import statsmodels.formula.api as sm"
   ]
  },
  {
   "cell_type": "code",
   "execution_count": 24,
   "metadata": {},
   "outputs": [
    {
     "data": {
      "text/html": [
       "<table class=\"simpletable\">\n",
       "<caption>OLS Regression Results</caption>\n",
       "<tr>\n",
       "  <th>Dep. Variable:</th>            <td>y</td>        <th>  R-squared:         </th> <td>   0.103</td>\n",
       "</tr>\n",
       "<tr>\n",
       "  <th>Model:</th>                   <td>OLS</td>       <th>  Adj. R-squared:    </th> <td>   0.097</td>\n",
       "</tr>\n",
       "<tr>\n",
       "  <th>Method:</th>             <td>Least Squares</td>  <th>  F-statistic:       </th> <td>   15.76</td>\n",
       "</tr>\n",
       "<tr>\n",
       "  <th>Date:</th>             <td>Thu, 07 Mar 2019</td> <th>  Prob (F-statistic):</th> <td>1.02e-09</td>\n",
       "</tr>\n",
       "<tr>\n",
       "  <th>Time:</th>                 <td>12:40:28</td>     <th>  Log-Likelihood:    </th> <td> -811.85</td>\n",
       "</tr>\n",
       "<tr>\n",
       "  <th>No. Observations:</th>      <td>   413</td>      <th>  AIC:               </th> <td>   1630.</td>\n",
       "</tr>\n",
       "<tr>\n",
       "  <th>Df Residuals:</th>          <td>   410</td>      <th>  BIC:               </th> <td>   1642.</td>\n",
       "</tr>\n",
       "<tr>\n",
       "  <th>Df Model:</th>              <td>     3</td>      <th>                     </th>     <td> </td>   \n",
       "</tr>\n",
       "<tr>\n",
       "  <th>Covariance Type:</th>      <td>nonrobust</td>    <th>                     </th>     <td> </td>   \n",
       "</tr>\n",
       "</table>\n",
       "<table class=\"simpletable\">\n",
       "<tr>\n",
       "   <td></td>     <th>coef</th>     <th>std err</th>      <th>t</th>      <th>P>|t|</th>  <th>[0.025</th>    <th>0.975]</th>  \n",
       "</tr>\n",
       "<tr>\n",
       "  <th>x1</th> <td>    0.1854</td> <td>    0.087</td> <td>    2.135</td> <td> 0.033</td> <td>    0.015</td> <td>    0.356</td>\n",
       "</tr>\n",
       "<tr>\n",
       "  <th>x2</th> <td>    0.2085</td> <td>    0.087</td> <td>    2.396</td> <td> 0.017</td> <td>    0.037</td> <td>    0.380</td>\n",
       "</tr>\n",
       "<tr>\n",
       "  <th>x3</th> <td>    1.3564</td> <td>    0.217</td> <td>    6.252</td> <td> 0.000</td> <td>    0.930</td> <td>    1.783</td>\n",
       "</tr>\n",
       "</table>\n",
       "<table class=\"simpletable\">\n",
       "<tr>\n",
       "  <th>Omnibus:</th>       <td>44.282</td> <th>  Durbin-Watson:     </th> <td>   1.421</td>\n",
       "</tr>\n",
       "<tr>\n",
       "  <th>Prob(Omnibus):</th> <td> 0.000</td> <th>  Jarque-Bera (JB):  </th> <td>  55.435</td>\n",
       "</tr>\n",
       "<tr>\n",
       "  <th>Skew:</th>          <td> 0.863</td> <th>  Prob(JB):          </th> <td>9.17e-13</td>\n",
       "</tr>\n",
       "<tr>\n",
       "  <th>Kurtosis:</th>      <td> 3.491</td> <th>  Cond. No.          </th> <td>    2.62</td>\n",
       "</tr>\n",
       "</table><br/><br/>Warnings:<br/>[1] Standard Errors assume that the covariance matrix of the errors is correctly specified."
      ],
      "text/plain": [
       "<class 'statsmodels.iolib.summary.Summary'>\n",
       "\"\"\"\n",
       "                            OLS Regression Results                            \n",
       "==============================================================================\n",
       "Dep. Variable:                      y   R-squared:                       0.103\n",
       "Model:                            OLS   Adj. R-squared:                  0.097\n",
       "Method:                 Least Squares   F-statistic:                     15.76\n",
       "Date:                Thu, 07 Mar 2019   Prob (F-statistic):           1.02e-09\n",
       "Time:                        12:40:28   Log-Likelihood:                -811.85\n",
       "No. Observations:                 413   AIC:                             1630.\n",
       "Df Residuals:                     410   BIC:                             1642.\n",
       "Df Model:                           3                                         \n",
       "Covariance Type:            nonrobust                                         \n",
       "==============================================================================\n",
       "                 coef    std err          t      P>|t|      [0.025      0.975]\n",
       "------------------------------------------------------------------------------\n",
       "x1             0.1854      0.087      2.135      0.033       0.015       0.356\n",
       "x2             0.2085      0.087      2.396      0.017       0.037       0.380\n",
       "x3             1.3564      0.217      6.252      0.000       0.930       1.783\n",
       "==============================================================================\n",
       "Omnibus:                       44.282   Durbin-Watson:                   1.421\n",
       "Prob(Omnibus):                  0.000   Jarque-Bera (JB):               55.435\n",
       "Skew:                           0.863   Prob(JB):                     9.17e-13\n",
       "Kurtosis:                       3.491   Cond. No.                         2.62\n",
       "==============================================================================\n",
       "\n",
       "Warnings:\n",
       "[1] Standard Errors assume that the covariance matrix of the errors is correctly specified.\n",
       "\"\"\""
      ]
     },
     "execution_count": 24,
     "metadata": {},
     "output_type": "execute_result"
    }
   ],
   "source": [
    "estimator = LinearRegression()\n",
    "selector = RFE(estimator, n_features_to_select=3, step=1, )\n",
    "selector = selector.fit(X_train, y_train)\n",
    "\n",
    "opt = selector.get_support()\n",
    "\n",
    "OLS = sm.OLS(y_train, X_train[:, opt]).fit()\n",
    "OLS.summary()"
   ]
  },
  {
   "cell_type": "markdown",
   "metadata": {},
   "source": [
    "According to the OLS regression formula the maximum Adjusted R-Squared value is reached when there are 19 features included in the regression equation. While that may produce the highest R-squared value, that model will almost certainly not withstand the test set since it likely falls victim to overfitting on a considerable scale."
   ]
  },
  {
   "cell_type": "code",
   "execution_count": 25,
   "metadata": {
    "scrolled": true
   },
   "outputs": [
    {
     "data": {
      "text/plain": [
       "Index(['DMC', 'wind', 'day_sat'], dtype='object')"
      ]
     },
     "execution_count": 25,
     "metadata": {},
     "output_type": "execute_result"
    }
   ],
   "source": [
    "data.drop('area', axis=1).columns[opt]"
   ]
  },
  {
   "cell_type": "markdown",
   "metadata": {},
   "source": [
    "The above columns are the ones selected by the model as regressors. This list makes some sense to me. Fires are more likely to continue burning in the hotter drier months, and increased traffic in the forest on Saturdays is likely to correlate with higher occurence of fires. Still I have trouble beleiving that these three factors alone are the best we can do."
   ]
  },
  {
   "cell_type": "code",
   "execution_count": 26,
   "metadata": {
    "scrolled": true
   },
   "outputs": [
    {
     "data": {
      "text/plain": [
       "-0.0986325789471365"
      ]
     },
     "execution_count": 26,
     "metadata": {},
     "output_type": "execute_result"
    }
   ],
   "source": [
    "selector.score(X_test, y_test)"
   ]
  },
  {
   "cell_type": "markdown",
   "metadata": {},
   "source": [
    "As we see, this model is completely broken when it evaluates the test data. Even though the model only has three inputs, it still is guilty of overfitting the training set and in the end models the test set worst than a model that makes random correlations."
   ]
  },
  {
   "cell_type": "markdown",
   "metadata": {},
   "source": [
    "## Mulitple Linear Regression with Recursive Feature Elimination with Cross Validation\n",
    "\n",
    "Performs the same Backwards Elimination, but has the added complexity of incorporating cross validation. Cross Validation is the process of splitting the training data into smaller subsets. The model finds parameters for each of the subsets."
   ]
  },
  {
   "cell_type": "code",
   "execution_count": 27,
   "metadata": {},
   "outputs": [],
   "source": [
    "from sklearn.feature_selection import RFECV\n",
    "from sklearn.metrics import r2_score"
   ]
  },
  {
   "cell_type": "code",
   "execution_count": 28,
   "metadata": {},
   "outputs": [
    {
     "data": {
      "text/html": [
       "<table class=\"simpletable\">\n",
       "<caption>OLS Regression Results</caption>\n",
       "<tr>\n",
       "  <th>Dep. Variable:</th>            <td>y</td>        <th>  R-squared:         </th> <td>   0.115</td>\n",
       "</tr>\n",
       "<tr>\n",
       "  <th>Model:</th>                   <td>OLS</td>       <th>  Adj. R-squared:    </th> <td>   0.104</td>\n",
       "</tr>\n",
       "<tr>\n",
       "  <th>Method:</th>             <td>Least Squares</td>  <th>  F-statistic:       </th> <td>   10.56</td>\n",
       "</tr>\n",
       "<tr>\n",
       "  <th>Date:</th>             <td>Thu, 07 Mar 2019</td> <th>  Prob (F-statistic):</th> <td>1.50e-09</td>\n",
       "</tr>\n",
       "<tr>\n",
       "  <th>Time:</th>                 <td>12:40:40</td>     <th>  Log-Likelihood:    </th> <td> -809.26</td>\n",
       "</tr>\n",
       "<tr>\n",
       "  <th>No. Observations:</th>      <td>   413</td>      <th>  AIC:               </th> <td>   1629.</td>\n",
       "</tr>\n",
       "<tr>\n",
       "  <th>Df Residuals:</th>          <td>   408</td>      <th>  BIC:               </th> <td>   1649.</td>\n",
       "</tr>\n",
       "<tr>\n",
       "  <th>Df Model:</th>              <td>     5</td>      <th>                     </th>     <td> </td>   \n",
       "</tr>\n",
       "<tr>\n",
       "  <th>Covariance Type:</th>      <td>nonrobust</td>    <th>                     </th>     <td> </td>   \n",
       "</tr>\n",
       "</table>\n",
       "<table class=\"simpletable\">\n",
       "<tr>\n",
       "   <td></td>     <th>coef</th>     <th>std err</th>      <th>t</th>      <th>P>|t|</th>  <th>[0.025</th>    <th>0.975]</th>  \n",
       "</tr>\n",
       "<tr>\n",
       "  <th>x1</th> <td>    0.0881</td> <td>    0.117</td> <td>    0.750</td> <td> 0.454</td> <td>   -0.143</td> <td>    0.319</td>\n",
       "</tr>\n",
       "<tr>\n",
       "  <th>x2</th> <td>    0.1710</td> <td>    0.122</td> <td>    1.400</td> <td> 0.162</td> <td>   -0.069</td> <td>    0.411</td>\n",
       "</tr>\n",
       "<tr>\n",
       "  <th>x3</th> <td>   -0.1409</td> <td>    0.087</td> <td>   -1.625</td> <td> 0.105</td> <td>   -0.311</td> <td>    0.030</td>\n",
       "</tr>\n",
       "<tr>\n",
       "  <th>x4</th> <td>    0.2476</td> <td>    0.089</td> <td>    2.795</td> <td> 0.005</td> <td>    0.073</td> <td>    0.422</td>\n",
       "</tr>\n",
       "<tr>\n",
       "  <th>x5</th> <td>    1.3452</td> <td>    0.216</td> <td>    6.221</td> <td> 0.000</td> <td>    0.920</td> <td>    1.770</td>\n",
       "</tr>\n",
       "</table>\n",
       "<table class=\"simpletable\">\n",
       "<tr>\n",
       "  <th>Omnibus:</th>       <td>42.340</td> <th>  Durbin-Watson:     </th> <td>   1.423</td>\n",
       "</tr>\n",
       "<tr>\n",
       "  <th>Prob(Omnibus):</th> <td> 0.000</td> <th>  Jarque-Bera (JB):  </th> <td>  52.397</td>\n",
       "</tr>\n",
       "<tr>\n",
       "  <th>Skew:</th>          <td> 0.842</td> <th>  Prob(JB):          </th> <td>4.19e-12</td>\n",
       "</tr>\n",
       "<tr>\n",
       "  <th>Kurtosis:</th>      <td> 3.454</td> <th>  Cond. No.          </th> <td>    3.26</td>\n",
       "</tr>\n",
       "</table><br/><br/>Warnings:<br/>[1] Standard Errors assume that the covariance matrix of the errors is correctly specified."
      ],
      "text/plain": [
       "<class 'statsmodels.iolib.summary.Summary'>\n",
       "\"\"\"\n",
       "                            OLS Regression Results                            \n",
       "==============================================================================\n",
       "Dep. Variable:                      y   R-squared:                       0.115\n",
       "Model:                            OLS   Adj. R-squared:                  0.104\n",
       "Method:                 Least Squares   F-statistic:                     10.56\n",
       "Date:                Thu, 07 Mar 2019   Prob (F-statistic):           1.50e-09\n",
       "Time:                        12:40:40   Log-Likelihood:                -809.26\n",
       "No. Observations:                 413   AIC:                             1629.\n",
       "Df Residuals:                     408   BIC:                             1649.\n",
       "Df Model:                           5                                         \n",
       "Covariance Type:            nonrobust                                         \n",
       "==============================================================================\n",
       "                 coef    std err          t      P>|t|      [0.025      0.975]\n",
       "------------------------------------------------------------------------------\n",
       "x1             0.0881      0.117      0.750      0.454      -0.143       0.319\n",
       "x2             0.1710      0.122      1.400      0.162      -0.069       0.411\n",
       "x3            -0.1409      0.087     -1.625      0.105      -0.311       0.030\n",
       "x4             0.2476      0.089      2.795      0.005       0.073       0.422\n",
       "x5             1.3452      0.216      6.221      0.000       0.920       1.770\n",
       "==============================================================================\n",
       "Omnibus:                       42.340   Durbin-Watson:                   1.423\n",
       "Prob(Omnibus):                  0.000   Jarque-Bera (JB):               52.397\n",
       "Skew:                           0.842   Prob(JB):                     4.19e-12\n",
       "Kurtosis:                       3.454   Cond. No.                         3.26\n",
       "==============================================================================\n",
       "\n",
       "Warnings:\n",
       "[1] Standard Errors assume that the covariance matrix of the errors is correctly specified.\n",
       "\"\"\""
      ]
     },
     "execution_count": 28,
     "metadata": {},
     "output_type": "execute_result"
    }
   ],
   "source": [
    "estimator = LinearRegression()\n",
    "selector = RFECV(estimator, min_features_to_select=3, cv=5, step=1, scoring='r2')\n",
    "selector = selector.fit(X_train, y_train)\n",
    "\n",
    "opt = selector.get_support()\n",
    "\n",
    "OLS = sm.OLS(y_train, X_train[:, opt]).fit()\n",
    "OLS.summary()"
   ]
  },
  {
   "cell_type": "code",
   "execution_count": 29,
   "metadata": {
    "scrolled": true
   },
   "outputs": [
    {
     "data": {
      "text/plain": [
       "Index(['DMC', 'DC', 'RH', 'wind', 'day_sat'], dtype='object')"
      ]
     },
     "execution_count": 29,
     "metadata": {},
     "output_type": "execute_result"
    }
   ],
   "source": [
    "data.drop('area', axis=1).columns[opt]"
   ]
  },
  {
   "cell_type": "code",
   "execution_count": 30,
   "metadata": {},
   "outputs": [
    {
     "data": {
      "image/png": "[encoded data removed]",
      "text/plain": [
       "<Figure size 432x288 with 1 Axes>"
      ]
     },
     "metadata": {
      "needs_background": "light"
     },
     "output_type": "display_data"
    }
   ],
   "source": [
    "plt.figure()\n",
    "plt.xlabel(\"Number of features selected\")\n",
    "plt.ylabel(\"Cross validation score (r2)\")\n",
    "plt.plot(range(1, len(selector.grid_scores_) + 1), selector.grid_scores_)\n",
    "plt.show()"
   ]
  },
  {
   "cell_type": "markdown",
   "metadata": {},
   "source": [
    "Model is garbage. Predicts slightly better than random at its best."
   ]
  },
  {
   "cell_type": "markdown",
   "metadata": {},
   "source": [
    "## Multiple Linear Regression with F_Regression"
   ]
  },
  {
   "cell_type": "code",
   "execution_count": 31,
   "metadata": {},
   "outputs": [],
   "source": [
    "from sklearn.feature_selection import SelectKBest, f_regression, SelectPercentile"
   ]
  },
  {
   "cell_type": "code",
   "execution_count": 41,
   "metadata": {},
   "outputs": [
    {
     "data": {
      "text/html": [
       "<table class=\"simpletable\">\n",
       "<caption>OLS Regression Results</caption>\n",
       "<tr>\n",
       "  <th>Dep. Variable:</th>            <td>y</td>        <th>  R-squared:         </th> <td>   0.024</td>\n",
       "</tr>\n",
       "<tr>\n",
       "  <th>Model:</th>                   <td>OLS</td>       <th>  Adj. R-squared:    </th> <td>   0.016</td>\n",
       "</tr>\n",
       "<tr>\n",
       "  <th>Method:</th>             <td>Least Squares</td>  <th>  F-statistic:       </th> <td>   3.308</td>\n",
       "</tr>\n",
       "<tr>\n",
       "  <th>Date:</th>             <td>Thu, 07 Mar 2019</td> <th>  Prob (F-statistic):</th>  <td>0.0202</td> \n",
       "</tr>\n",
       "<tr>\n",
       "  <th>Time:</th>                 <td>12:42:12</td>     <th>  Log-Likelihood:    </th> <td> -829.45</td>\n",
       "</tr>\n",
       "<tr>\n",
       "  <th>No. Observations:</th>      <td>   413</td>      <th>  AIC:               </th> <td>   1665.</td>\n",
       "</tr>\n",
       "<tr>\n",
       "  <th>Df Residuals:</th>          <td>   410</td>      <th>  BIC:               </th> <td>   1677.</td>\n",
       "</tr>\n",
       "<tr>\n",
       "  <th>Df Model:</th>              <td>     3</td>      <th>                     </th>     <td> </td>   \n",
       "</tr>\n",
       "<tr>\n",
       "  <th>Covariance Type:</th>      <td>nonrobust</td>    <th>                     </th>     <td> </td>   \n",
       "</tr>\n",
       "</table>\n",
       "<table class=\"simpletable\">\n",
       "<tr>\n",
       "   <td></td>     <th>coef</th>     <th>std err</th>      <th>t</th>      <th>P>|t|</th>  <th>[0.025</th>    <th>0.975]</th>  \n",
       "</tr>\n",
       "<tr>\n",
       "  <th>x1</th> <td>    0.0564</td> <td>    0.122</td> <td>    0.462</td> <td> 0.644</td> <td>   -0.183</td> <td>    0.296</td>\n",
       "</tr>\n",
       "<tr>\n",
       "  <th>x2</th> <td>    0.1969</td> <td>    0.127</td> <td>    1.548</td> <td> 0.122</td> <td>   -0.053</td> <td>    0.447</td>\n",
       "</tr>\n",
       "<tr>\n",
       "  <th>x3</th> <td>    0.2113</td> <td>    0.092</td> <td>    2.288</td> <td> 0.023</td> <td>    0.030</td> <td>    0.393</td>\n",
       "</tr>\n",
       "</table>\n",
       "<table class=\"simpletable\">\n",
       "<tr>\n",
       "  <th>Omnibus:</th>       <td>78.502</td> <th>  Durbin-Watson:     </th> <td>   1.184</td>\n",
       "</tr>\n",
       "<tr>\n",
       "  <th>Prob(Omnibus):</th> <td> 0.000</td> <th>  Jarque-Bera (JB):  </th> <td> 120.962</td>\n",
       "</tr>\n",
       "<tr>\n",
       "  <th>Skew:</th>          <td> 1.210</td> <th>  Prob(JB):          </th> <td>5.41e-27</td>\n",
       "</tr>\n",
       "<tr>\n",
       "  <th>Kurtosis:</th>      <td> 4.082</td> <th>  Cond. No.          </th> <td>    2.33</td>\n",
       "</tr>\n",
       "</table><br/><br/>Warnings:<br/>[1] Standard Errors assume that the covariance matrix of the errors is correctly specified."
      ],
      "text/plain": [
       "<class 'statsmodels.iolib.summary.Summary'>\n",
       "\"\"\"\n",
       "                            OLS Regression Results                            \n",
       "==============================================================================\n",
       "Dep. Variable:                      y   R-squared:                       0.024\n",
       "Model:                            OLS   Adj. R-squared:                  0.016\n",
       "Method:                 Least Squares   F-statistic:                     3.308\n",
       "Date:                Thu, 07 Mar 2019   Prob (F-statistic):             0.0202\n",
       "Time:                        12:42:12   Log-Likelihood:                -829.45\n",
       "No. Observations:                 413   AIC:                             1665.\n",
       "Df Residuals:                     410   BIC:                             1677.\n",
       "Df Model:                           3                                         \n",
       "Covariance Type:            nonrobust                                         \n",
       "==============================================================================\n",
       "                 coef    std err          t      P>|t|      [0.025      0.975]\n",
       "------------------------------------------------------------------------------\n",
       "x1             0.0564      0.122      0.462      0.644      -0.183       0.296\n",
       "x2             0.1969      0.127      1.548      0.122      -0.053       0.447\n",
       "x3             0.2113      0.092      2.288      0.023       0.030       0.393\n",
       "==============================================================================\n",
       "Omnibus:                       78.502   Durbin-Watson:                   1.184\n",
       "Prob(Omnibus):                  0.000   Jarque-Bera (JB):              120.962\n",
       "Skew:                           1.210   Prob(JB):                     5.41e-27\n",
       "Kurtosis:                       4.082   Cond. No.                         2.33\n",
       "==============================================================================\n",
       "\n",
       "Warnings:\n",
       "[1] Standard Errors assume that the covariance matrix of the errors is correctly specified.\n",
       "\"\"\""
      ]
     },
     "execution_count": 41,
     "metadata": {},
     "output_type": "execute_result"
    }
   ],
   "source": [
    "estimator = LinearRegression()\n",
    "selector = SelectPercentile(f_regression, percentile=30)\n",
    "selector.fit(X_train, y_train)\n",
    "\n",
    "opt = selector.get_support()\n",
    "\n",
    "OLS = sm.OLS(y_train, X_train[:, opt]).fit()\n",
    "OLS.summary()"
   ]
  },
  {
   "cell_type": "code",
   "execution_count": 42,
   "metadata": {
    "scrolled": false
   },
   "outputs": [
    {
     "data": {
      "text/plain": [
       "Index(['DMC', 'DC', 'wind'], dtype='object')"
      ]
     },
     "execution_count": 42,
     "metadata": {},
     "output_type": "execute_result"
    }
   ],
   "source": [
    "data.drop('area', axis=1).columns[opt]"
   ]
  },
  {
   "cell_type": "markdown",
   "metadata": {},
   "source": [
    "# Visualize"
   ]
  },
  {
   "cell_type": "code",
   "execution_count": 17,
   "metadata": {},
   "outputs": [],
   "source": [
    "# import matplotlib.pyplot as plt\n",
    "# import seaborn as sns"
   ]
  },
  {
   "cell_type": "code",
   "execution_count": 16,
   "metadata": {},
   "outputs": [],
   "source": [
    "# # Plot Training data\n",
    "# plt.scatter(X_train, y_train, color='red')\n",
    "# sns.regplot(X_train, regressor.predict(X_train), color='blue')\n",
    "# plt.title('Training Parameters')\n",
    "# plt.show()"
   ]
  },
  {
   "cell_type": "code",
   "execution_count": 15,
   "metadata": {},
   "outputs": [],
   "source": [
    "# # Plot Test data\n",
    "# plt.scatter(X_test, y_test, color='red')\n",
    "# sns.regplot(X_test, regressor.predict(X_test), color='blue')\n",
    "# plt.title('Test Parameters')\n",
    "# plt.show()"
   ]
  }
 ],
 "metadata": {
  "kernelspec": {
   "display_name": "Python [conda env:conda_root]",
   "language": "python",
   "name": "conda-env-conda_root-py"
  },
  "language_info": {
   "codemirror_mode": {
    "name": "ipython",
    "version": 3
   },
   "file_extension": ".py",
   "mimetype": "text/x-python",
   "name": "python",
   "nbconvert_exporter": "python",
   "pygments_lexer": "ipython3",
   "version": "3.6.8"
  }
 },
 "nbformat": 4,
 "nbformat_minor": 2
}
