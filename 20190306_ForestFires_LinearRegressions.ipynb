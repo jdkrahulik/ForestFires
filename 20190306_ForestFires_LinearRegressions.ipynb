{
 "cells": [
  {
   "cell_type": "markdown",
   "metadata": {},
   "source": [
    "# Predicting Forest Fires\n",
    "\n",
    "\n",
    "In this notebook I will explore different machine learning regression algorithms to see how well they can predict forest fire outcomes. In this notebook I will examine the different merits and drawbacks of using multiple linear regression, polynomial regression, SVM regression, and random forest regression.\n"
   ]
  },
  {
   "cell_type": "markdown",
   "metadata": {},
   "source": [
    "All X features are scaled and y has been transformed."
   ]
  },
  {
   "cell_type": "markdown",
   "metadata": {},
   "source": [
    "# Model\n",
    "\n",
    "I will perform a series of operations on this dataset to understand the different pros and cons of each type of regression algorithm"
   ]
  },
  {
   "cell_type": "code",
   "execution_count": 1,
   "metadata": {},
   "outputs": [],
   "source": [
    "import pandas as pd\n",
    "import numpy as np\n",
    "import matplotlib.pyplot as plt"
   ]
  },
  {
   "cell_type": "code",
   "execution_count": 2,
   "metadata": {},
   "outputs": [],
   "source": [
    "# Import data from flat file\n",
    "\n",
    "# Set path\n",
    "path = 'forestfires.csv'\n",
    "data = pd.read_csv(path)\n",
    "data.head()\n",
    "\n",
    "X_train = pd.read_csv('ForestFires_XTrain.txt').values\n",
    "X_test = pd.read_csv('ForestFires_XTest.txt').values\n",
    "y_train = pd.read_csv('ForestFires_yTrain.txt').values\n",
    "y_test = pd.read_csv('ForestFires_yTest.txt').values\n",
    "\n",
    "y_train = np.ravel(y_train)\n",
    "y_test = np.ravel(y_test)"
   ]
  },
  {
   "cell_type": "markdown",
   "metadata": {},
   "source": [
    "## Multiple Linear Regression with Backwards Elimination"
   ]
  },
  {
   "cell_type": "code",
   "execution_count": 3,
   "metadata": {},
   "outputs": [],
   "source": [
    "from sklearn.linear_model import LinearRegression\n",
    "from sklearn.feature_selection import RFE\n",
    "import statsmodels.formula.api as sm"
   ]
  },
  {
   "cell_type": "code",
   "execution_count": 4,
   "metadata": {},
   "outputs": [
    {
     "data": {
      "text/html": [
       "<table class=\"simpletable\">\n",
       "<caption>OLS Regression Results</caption>\n",
       "<tr>\n",
       "  <th>Dep. Variable:</th>            <td>y</td>        <th>  R-squared:         </th> <td>   0.379</td>\n",
       "</tr>\n",
       "<tr>\n",
       "  <th>Model:</th>                   <td>OLS</td>       <th>  Adj. R-squared:    </th> <td>   0.349</td>\n",
       "</tr>\n",
       "<tr>\n",
       "  <th>Method:</th>             <td>Least Squares</td>  <th>  F-statistic:       </th> <td>   12.64</td>\n",
       "</tr>\n",
       "<tr>\n",
       "  <th>Date:</th>             <td>Wed, 06 Mar 2019</td> <th>  Prob (F-statistic):</th> <td>1.76e-30</td>\n",
       "</tr>\n",
       "<tr>\n",
       "  <th>Time:</th>                 <td>13:11:00</td>     <th>  Log-Likelihood:    </th> <td> -710.22</td>\n",
       "</tr>\n",
       "<tr>\n",
       "  <th>No. Observations:</th>      <td>   413</td>      <th>  AIC:               </th> <td>   1458.</td>\n",
       "</tr>\n",
       "<tr>\n",
       "  <th>Df Residuals:</th>          <td>   394</td>      <th>  BIC:               </th> <td>   1535.</td>\n",
       "</tr>\n",
       "<tr>\n",
       "  <th>Df Model:</th>              <td>    19</td>      <th>                     </th>     <td> </td>   \n",
       "</tr>\n",
       "<tr>\n",
       "  <th>Covariance Type:</th>      <td>nonrobust</td>    <th>                     </th>     <td> </td>   \n",
       "</tr>\n",
       "</table>\n",
       "<table class=\"simpletable\">\n",
       "<tr>\n",
       "   <td></td>      <th>coef</th>     <th>std err</th>      <th>t</th>      <th>P>|t|</th>  <th>[0.025</th>    <th>0.975]</th>  \n",
       "</tr>\n",
       "<tr>\n",
       "  <th>x1</th>  <td>    0.1071</td> <td>    0.069</td> <td>    1.553</td> <td> 0.121</td> <td>   -0.029</td> <td>    0.243</td>\n",
       "</tr>\n",
       "<tr>\n",
       "  <th>x2</th>  <td>    0.0439</td> <td>    0.109</td> <td>    0.402</td> <td> 0.688</td> <td>   -0.171</td> <td>    0.259</td>\n",
       "</tr>\n",
       "<tr>\n",
       "  <th>x3</th>  <td>    0.5190</td> <td>    0.147</td> <td>    3.538</td> <td> 0.000</td> <td>    0.231</td> <td>    0.807</td>\n",
       "</tr>\n",
       "<tr>\n",
       "  <th>x4</th>  <td>    0.0344</td> <td>    0.095</td> <td>    0.363</td> <td> 0.717</td> <td>   -0.152</td> <td>    0.220</td>\n",
       "</tr>\n",
       "<tr>\n",
       "  <th>x5</th>  <td>   -0.3236</td> <td>    0.199</td> <td>   -1.626</td> <td> 0.105</td> <td>   -0.715</td> <td>    0.068</td>\n",
       "</tr>\n",
       "<tr>\n",
       "  <th>x6</th>  <td>    0.1553</td> <td>    0.170</td> <td>    0.911</td> <td> 0.363</td> <td>   -0.180</td> <td>    0.490</td>\n",
       "</tr>\n",
       "<tr>\n",
       "  <th>x7</th>  <td>    2.7384</td> <td>    0.627</td> <td>    4.368</td> <td> 0.000</td> <td>    1.506</td> <td>    3.971</td>\n",
       "</tr>\n",
       "<tr>\n",
       "  <th>x8</th>  <td>    1.4396</td> <td>    0.462</td> <td>    3.113</td> <td> 0.002</td> <td>    0.530</td> <td>    2.349</td>\n",
       "</tr>\n",
       "<tr>\n",
       "  <th>x9</th>  <td>    0.5924</td> <td>    1.452</td> <td>    0.408</td> <td> 0.683</td> <td>   -2.261</td> <td>    3.446</td>\n",
       "</tr>\n",
       "<tr>\n",
       "  <th>x10</th> <td>    0.4295</td> <td>    0.311</td> <td>    1.382</td> <td> 0.168</td> <td>   -0.181</td> <td>    1.040</td>\n",
       "</tr>\n",
       "<tr>\n",
       "  <th>x11</th> <td>    0.7341</td> <td>    0.511</td> <td>    1.436</td> <td> 0.152</td> <td>   -0.271</td> <td>    1.739</td>\n",
       "</tr>\n",
       "<tr>\n",
       "  <th>x12</th> <td>    1.3972</td> <td>    0.354</td> <td>    3.952</td> <td> 0.000</td> <td>    0.702</td> <td>    2.092</td>\n",
       "</tr>\n",
       "<tr>\n",
       "  <th>x13</th> <td>    4.7402</td> <td>    1.406</td> <td>    3.373</td> <td> 0.001</td> <td>    1.977</td> <td>    7.503</td>\n",
       "</tr>\n",
       "<tr>\n",
       "  <th>x14</th> <td>    0.2418</td> <td>    1.429</td> <td>    0.169</td> <td> 0.866</td> <td>   -2.568</td> <td>    3.051</td>\n",
       "</tr>\n",
       "<tr>\n",
       "  <th>x15</th> <td>    0.7897</td> <td>    0.203</td> <td>    3.898</td> <td> 0.000</td> <td>    0.391</td> <td>    1.188</td>\n",
       "</tr>\n",
       "<tr>\n",
       "  <th>x16</th> <td>    0.8057</td> <td>    0.187</td> <td>    4.319</td> <td> 0.000</td> <td>    0.439</td> <td>    1.172</td>\n",
       "</tr>\n",
       "<tr>\n",
       "  <th>x17</th> <td>    0.7118</td> <td>    0.222</td> <td>    3.208</td> <td> 0.001</td> <td>    0.276</td> <td>    1.148</td>\n",
       "</tr>\n",
       "<tr>\n",
       "  <th>x18</th> <td>    0.7129</td> <td>    0.219</td> <td>    3.255</td> <td> 0.001</td> <td>    0.282</td> <td>    1.144</td>\n",
       "</tr>\n",
       "<tr>\n",
       "  <th>x19</th> <td>    0.8200</td> <td>    0.237</td> <td>    3.460</td> <td> 0.001</td> <td>    0.354</td> <td>    1.286</td>\n",
       "</tr>\n",
       "</table>\n",
       "<table class=\"simpletable\">\n",
       "<tr>\n",
       "  <th>Omnibus:</th>       <td>59.216</td> <th>  Durbin-Watson:     </th> <td>   2.082</td>\n",
       "</tr>\n",
       "<tr>\n",
       "  <th>Prob(Omnibus):</th> <td> 0.000</td> <th>  Jarque-Bera (JB):  </th> <td>  80.912</td>\n",
       "</tr>\n",
       "<tr>\n",
       "  <th>Skew:</th>          <td> 1.045</td> <th>  Prob(JB):          </th> <td>2.69e-18</td>\n",
       "</tr>\n",
       "<tr>\n",
       "  <th>Kurtosis:</th>      <td> 3.580</td> <th>  Cond. No.          </th> <td>    33.1</td>\n",
       "</tr>\n",
       "</table><br/><br/>Warnings:<br/>[1] Standard Errors assume that the covariance matrix of the errors is correctly specified."
      ],
      "text/plain": [
       "<class 'statsmodels.iolib.summary.Summary'>\n",
       "\"\"\"\n",
       "                            OLS Regression Results                            \n",
       "==============================================================================\n",
       "Dep. Variable:                      y   R-squared:                       0.379\n",
       "Model:                            OLS   Adj. R-squared:                  0.349\n",
       "Method:                 Least Squares   F-statistic:                     12.64\n",
       "Date:                Wed, 06 Mar 2019   Prob (F-statistic):           1.76e-30\n",
       "Time:                        13:11:00   Log-Likelihood:                -710.22\n",
       "No. Observations:                 413   AIC:                             1458.\n",
       "Df Residuals:                     394   BIC:                             1535.\n",
       "Df Model:                          19                                         \n",
       "Covariance Type:            nonrobust                                         \n",
       "==============================================================================\n",
       "                 coef    std err          t      P>|t|      [0.025      0.975]\n",
       "------------------------------------------------------------------------------\n",
       "x1             0.1071      0.069      1.553      0.121      -0.029       0.243\n",
       "x2             0.0439      0.109      0.402      0.688      -0.171       0.259\n",
       "x3             0.5190      0.147      3.538      0.000       0.231       0.807\n",
       "x4             0.0344      0.095      0.363      0.717      -0.152       0.220\n",
       "x5            -0.3236      0.199     -1.626      0.105      -0.715       0.068\n",
       "x6             0.1553      0.170      0.911      0.363      -0.180       0.490\n",
       "x7             2.7384      0.627      4.368      0.000       1.506       3.971\n",
       "x8             1.4396      0.462      3.113      0.002       0.530       2.349\n",
       "x9             0.5924      1.452      0.408      0.683      -2.261       3.446\n",
       "x10            0.4295      0.311      1.382      0.168      -0.181       1.040\n",
       "x11            0.7341      0.511      1.436      0.152      -0.271       1.739\n",
       "x12            1.3972      0.354      3.952      0.000       0.702       2.092\n",
       "x13            4.7402      1.406      3.373      0.001       1.977       7.503\n",
       "x14            0.2418      1.429      0.169      0.866      -2.568       3.051\n",
       "x15            0.7897      0.203      3.898      0.000       0.391       1.188\n",
       "x16            0.8057      0.187      4.319      0.000       0.439       1.172\n",
       "x17            0.7118      0.222      3.208      0.001       0.276       1.148\n",
       "x18            0.7129      0.219      3.255      0.001       0.282       1.144\n",
       "x19            0.8200      0.237      3.460      0.001       0.354       1.286\n",
       "==============================================================================\n",
       "Omnibus:                       59.216   Durbin-Watson:                   2.082\n",
       "Prob(Omnibus):                  0.000   Jarque-Bera (JB):               80.912\n",
       "Skew:                           1.045   Prob(JB):                     2.69e-18\n",
       "Kurtosis:                       3.580   Cond. No.                         33.1\n",
       "==============================================================================\n",
       "\n",
       "Warnings:\n",
       "[1] Standard Errors assume that the covariance matrix of the errors is correctly specified.\n",
       "\"\"\""
      ]
     },
     "execution_count": 4,
     "metadata": {},
     "output_type": "execute_result"
    }
   ],
   "source": [
    "estimator = LinearRegression()\n",
    "selector = RFE(estimator, n_features_to_select=19, step=1, )\n",
    "selector = selector.fit(X_train, y_train)\n",
    "\n",
    "opt = selector.get_support()\n",
    "\n",
    "OLS = sm.OLS(y_train, X_train[:, opt]).fit()\n",
    "OLS.summary()"
   ]
  },
  {
   "cell_type": "markdown",
   "metadata": {},
   "source": [
    "According to the OLS regression formula the maximum Adjusted R-Squared value is reached when there are 19 features included in the regression equation. I'll need to look into how Adjusted R-Squared can reach its maximum with so many inputs considering several (9) have p>0.05 which is a pretty standard measure of significance."
   ]
  },
  {
   "cell_type": "code",
   "execution_count": null,
   "metadata": {
    "scrolled": true
   },
   "outputs": [
    {
     "data": {
      "text/plain": [
       "Index(['X', 'DMC', 'DC', 'temp', 'rain', 'month_aug', 'month_dec', 'month_feb',\n",
       "       'month_jan', 'month_jul', 'month_jun', 'month_mar', 'month_may',\n",
       "       'month_nov', 'day_sat', 'day_sun', 'day_thu', 'day_tue', 'day_wed'],\n",
       "      dtype='object')"
      ]
     },
     "execution_count": 5,
     "metadata": {},
     "output_type": "execute_result"
    }
   ],
   "source": [
    "pd.get_dummies(data.iloc[:, :-1], drop_first=True).columns[opt]"
   ]
  },
  {
   "cell_type": "markdown",
   "metadata": {},
   "source": [
    "The above columns are the ones selected by the model as regressors. This list of regressors appears nonsensical to me. It would some compelling support for me to be convinced that these atrributes are truly the most significant."
   ]
  },
  {
   "cell_type": "markdown",
   "metadata": {},
   "source": [
    "## Mulitple Linear Regression with Recursive Feature Elimination with Cross Validation\n",
    "\n",
    "Performs the same Backwards Elimination, but has the added complexity of incorporating cross validation. Cross Validation is the process of splitting the training data into smaller subsets. The model finds parameters for each of the subsets."
   ]
  },
  {
   "cell_type": "code",
   "execution_count": null,
   "metadata": {},
   "outputs": [],
   "source": [
    "from sklearn.feature_selection import RFECV\n",
    "from sklearn.metrics import r2_score"
   ]
  },
  {
   "cell_type": "code",
   "execution_count": null,
   "metadata": {},
   "outputs": [
    {
     "data": {
      "text/html": [
       "<table class=\"simpletable\">\n",
       "<caption>OLS Regression Results</caption>\n",
       "<tr>\n",
       "  <th>Dep. Variable:</th>            <td>y</td>        <th>  R-squared:         </th> <td>   0.044</td>\n",
       "</tr>\n",
       "<tr>\n",
       "  <th>Model:</th>                   <td>OLS</td>       <th>  Adj. R-squared:    </th> <td>   0.040</td>\n",
       "</tr>\n",
       "<tr>\n",
       "  <th>Method:</th>             <td>Least Squares</td>  <th>  F-statistic:       </th> <td>   9.522</td>\n",
       "</tr>\n",
       "<tr>\n",
       "  <th>Date:</th>             <td>Wed, 06 Mar 2019</td> <th>  Prob (F-statistic):</th> <td>9.07e-05</td>\n",
       "</tr>\n",
       "<tr>\n",
       "  <th>Time:</th>                 <td>13:11:00</td>     <th>  Log-Likelihood:    </th> <td> -799.14</td>\n",
       "</tr>\n",
       "<tr>\n",
       "  <th>No. Observations:</th>      <td>   413</td>      <th>  AIC:               </th> <td>   1602.</td>\n",
       "</tr>\n",
       "<tr>\n",
       "  <th>Df Residuals:</th>          <td>   411</td>      <th>  BIC:               </th> <td>   1610.</td>\n",
       "</tr>\n",
       "<tr>\n",
       "  <th>Df Model:</th>              <td>     2</td>      <th>                     </th>     <td> </td>   \n",
       "</tr>\n",
       "<tr>\n",
       "  <th>Covariance Type:</th>      <td>nonrobust</td>    <th>                     </th>     <td> </td>   \n",
       "</tr>\n",
       "</table>\n",
       "<table class=\"simpletable\">\n",
       "<tr>\n",
       "   <td></td>     <th>coef</th>     <th>std err</th>      <th>t</th>      <th>P>|t|</th>  <th>[0.025</th>    <th>0.975]</th>  \n",
       "</tr>\n",
       "<tr>\n",
       "  <th>x1</th> <td>    2.5885</td> <td>    0.686</td> <td>    3.775</td> <td> 0.000</td> <td>    1.241</td> <td>    3.936</td>\n",
       "</tr>\n",
       "<tr>\n",
       "  <th>x2</th> <td>    3.6758</td> <td>    1.679</td> <td>    2.189</td> <td> 0.029</td> <td>    0.374</td> <td>    6.977</td>\n",
       "</tr>\n",
       "</table>\n",
       "<table class=\"simpletable\">\n",
       "<tr>\n",
       "  <th>Omnibus:</th>       <td>79.878</td> <th>  Durbin-Watson:     </th> <td>   1.357</td>\n",
       "</tr>\n",
       "<tr>\n",
       "  <th>Prob(Omnibus):</th> <td> 0.000</td> <th>  Jarque-Bera (JB):  </th> <td> 123.027</td>\n",
       "</tr>\n",
       "<tr>\n",
       "  <th>Skew:</th>          <td> 1.247</td> <th>  Prob(JB):          </th> <td>1.93e-27</td>\n",
       "</tr>\n",
       "<tr>\n",
       "  <th>Kurtosis:</th>      <td> 3.966</td> <th>  Cond. No.          </th> <td>    2.45</td>\n",
       "</tr>\n",
       "</table><br/><br/>Warnings:<br/>[1] Standard Errors assume that the covariance matrix of the errors is correctly specified."
      ],
      "text/plain": [
       "<class 'statsmodels.iolib.summary.Summary'>\n",
       "\"\"\"\n",
       "                            OLS Regression Results                            \n",
       "==============================================================================\n",
       "Dep. Variable:                      y   R-squared:                       0.044\n",
       "Model:                            OLS   Adj. R-squared:                  0.040\n",
       "Method:                 Least Squares   F-statistic:                     9.522\n",
       "Date:                Wed, 06 Mar 2019   Prob (F-statistic):           9.07e-05\n",
       "Time:                        13:11:00   Log-Likelihood:                -799.14\n",
       "No. Observations:                 413   AIC:                             1602.\n",
       "Df Residuals:                     411   BIC:                             1610.\n",
       "Df Model:                           2                                         \n",
       "Covariance Type:            nonrobust                                         \n",
       "==============================================================================\n",
       "                 coef    std err          t      P>|t|      [0.025      0.975]\n",
       "------------------------------------------------------------------------------\n",
       "x1             2.5885      0.686      3.775      0.000       1.241       3.936\n",
       "x2             3.6758      1.679      2.189      0.029       0.374       6.977\n",
       "==============================================================================\n",
       "Omnibus:                       79.878   Durbin-Watson:                   1.357\n",
       "Prob(Omnibus):                  0.000   Jarque-Bera (JB):              123.027\n",
       "Skew:                           1.247   Prob(JB):                     1.93e-27\n",
       "Kurtosis:                       3.966   Cond. No.                         2.45\n",
       "==============================================================================\n",
       "\n",
       "Warnings:\n",
       "[1] Standard Errors assume that the covariance matrix of the errors is correctly specified.\n",
       "\"\"\""
      ]
     },
     "execution_count": 7,
     "metadata": {},
     "output_type": "execute_result"
    }
   ],
   "source": [
    "estimator = LinearRegression()\n",
    "selector = RFECV(estimator, min_features_to_select=1, cv=3, step=1, scoring='r2')\n",
    "selector = selector.fit(X_train, y_train)\n",
    "\n",
    "opt = selector.get_support()\n",
    "\n",
    "OLS = sm.OLS(y_train, X_train[:, opt]).fit()\n",
    "OLS.summary()"
   ]
  },
  {
   "cell_type": "code",
   "execution_count": null,
   "metadata": {
    "scrolled": true
   },
   "outputs": [
    {
     "data": {
      "text/plain": [
       "Index(['month_dec', 'month_may'], dtype='object')"
      ]
     },
     "execution_count": 8,
     "metadata": {},
     "output_type": "execute_result"
    }
   ],
   "source": [
    "pd.get_dummies(data.iloc[:, :-1], drop_first=True).columns[opt]"
   ]
  },
  {
   "cell_type": "code",
   "execution_count": null,
   "metadata": {},
   "outputs": [
    {
     "data": {
      "image/png": "[encoded data removed]",
      "text/plain": [
       "<Figure size 432x288 with 1 Axes>"
      ]
     },
     "metadata": {
      "needs_background": "light"
     },
     "output_type": "display_data"
    }
   ],
   "source": [
    "plt.figure()\n",
    "plt.xlabel(\"Number of features selected\")\n",
    "plt.ylabel(\"Cross validation score (r2)\")\n",
    "plt.plot(range(1, len(selector.grid_scores_) + 1), selector.grid_scores_)\n",
    "plt.show()"
   ]
  },
  {
   "cell_type": "markdown",
   "metadata": {},
   "source": [
    "Model is garbage. Predicts slightly better than random at its best."
   ]
  },
  {
   "cell_type": "markdown",
   "metadata": {},
   "source": [
    "## Multiple Linear Regression with F_Regression"
   ]
  },
  {
   "cell_type": "code",
   "execution_count": null,
   "metadata": {},
   "outputs": [],
   "source": [
    "from sklearn.feature_selection import SelectKBest, f_regression"
   ]
  },
  {
   "cell_type": "code",
   "execution_count": null,
   "metadata": {},
   "outputs": [
    {
     "data": {
      "text/html": [
       "<table class=\"simpletable\">\n",
       "<caption>OLS Regression Results</caption>\n",
       "<tr>\n",
       "  <th>Dep. Variable:</th>            <td>y</td>        <th>  R-squared:         </th> <td>   0.291</td>\n",
       "</tr>\n",
       "<tr>\n",
       "  <th>Model:</th>                   <td>OLS</td>       <th>  Adj. R-squared:    </th> <td>   0.273</td>\n",
       "</tr>\n",
       "<tr>\n",
       "  <th>Method:</th>             <td>Least Squares</td>  <th>  F-statistic:       </th> <td>   16.51</td>\n",
       "</tr>\n",
       "<tr>\n",
       "  <th>Date:</th>             <td>Wed, 06 Mar 2019</td> <th>  Prob (F-statistic):</th> <td>4.87e-25</td>\n",
       "</tr>\n",
       "<tr>\n",
       "  <th>Time:</th>                 <td>13:11:00</td>     <th>  Log-Likelihood:    </th> <td> -737.59</td>\n",
       "</tr>\n",
       "<tr>\n",
       "  <th>No. Observations:</th>      <td>   413</td>      <th>  AIC:               </th> <td>   1495.</td>\n",
       "</tr>\n",
       "<tr>\n",
       "  <th>Df Residuals:</th>          <td>   403</td>      <th>  BIC:               </th> <td>   1535.</td>\n",
       "</tr>\n",
       "<tr>\n",
       "  <th>Df Model:</th>              <td>    10</td>      <th>                     </th>     <td> </td>   \n",
       "</tr>\n",
       "<tr>\n",
       "  <th>Covariance Type:</th>      <td>nonrobust</td>    <th>                     </th>     <td> </td>   \n",
       "</tr>\n",
       "</table>\n",
       "<table class=\"simpletable\">\n",
       "<tr>\n",
       "   <td></td>      <th>coef</th>     <th>std err</th>      <th>t</th>      <th>P>|t|</th>  <th>[0.025</th>    <th>0.975]</th>  \n",
       "</tr>\n",
       "<tr>\n",
       "  <th>x1</th>  <td>    0.1416</td> <td>    0.072</td> <td>    1.957</td> <td> 0.051</td> <td>   -0.001</td> <td>    0.284</td>\n",
       "</tr>\n",
       "<tr>\n",
       "  <th>x2</th>  <td>    0.5628</td> <td>    0.111</td> <td>    5.073</td> <td> 0.000</td> <td>    0.345</td> <td>    0.781</td>\n",
       "</tr>\n",
       "<tr>\n",
       "  <th>x3</th>  <td>   -0.5042</td> <td>    0.157</td> <td>   -3.203</td> <td> 0.001</td> <td>   -0.814</td> <td>   -0.195</td>\n",
       "</tr>\n",
       "<tr>\n",
       "  <th>x4</th>  <td>   -0.0940</td> <td>    0.077</td> <td>   -1.216</td> <td> 0.225</td> <td>   -0.246</td> <td>    0.058</td>\n",
       "</tr>\n",
       "<tr>\n",
       "  <th>x5</th>  <td>    0.0849</td> <td>    0.079</td> <td>    1.069</td> <td> 0.285</td> <td>   -0.071</td> <td>    0.241</td>\n",
       "</tr>\n",
       "<tr>\n",
       "  <th>x6</th>  <td>   -0.2706</td> <td>    0.214</td> <td>   -1.262</td> <td> 0.208</td> <td>   -0.692</td> <td>    0.151</td>\n",
       "</tr>\n",
       "<tr>\n",
       "  <th>x7</th>  <td>    2.7340</td> <td>    0.624</td> <td>    4.382</td> <td> 0.000</td> <td>    1.507</td> <td>    3.961</td>\n",
       "</tr>\n",
       "<tr>\n",
       "  <th>x8</th>  <td>    0.4107</td> <td>    0.320</td> <td>    1.284</td> <td> 0.200</td> <td>   -0.218</td> <td>    1.040</td>\n",
       "</tr>\n",
       "<tr>\n",
       "  <th>x9</th>  <td>    3.4600</td> <td>    1.479</td> <td>    2.339</td> <td> 0.020</td> <td>    0.552</td> <td>    6.368</td>\n",
       "</tr>\n",
       "<tr>\n",
       "  <th>x10</th> <td>    1.5411</td> <td>    0.167</td> <td>    9.205</td> <td> 0.000</td> <td>    1.212</td> <td>    1.870</td>\n",
       "</tr>\n",
       "</table>\n",
       "<table class=\"simpletable\">\n",
       "<tr>\n",
       "  <th>Omnibus:</th>       <td>46.356</td> <th>  Durbin-Watson:     </th> <td>   1.952</td>\n",
       "</tr>\n",
       "<tr>\n",
       "  <th>Prob(Omnibus):</th> <td> 0.000</td> <th>  Jarque-Bera (JB):  </th> <td>  58.784</td>\n",
       "</tr>\n",
       "<tr>\n",
       "  <th>Skew:</th>          <td> 0.880</td> <th>  Prob(JB):          </th> <td>1.72e-13</td>\n",
       "</tr>\n",
       "<tr>\n",
       "  <th>Kurtosis:</th>      <td> 3.562</td> <th>  Cond. No.          </th> <td>    27.8</td>\n",
       "</tr>\n",
       "</table><br/><br/>Warnings:<br/>[1] Standard Errors assume that the covariance matrix of the errors is correctly specified."
      ],
      "text/plain": [
       "<class 'statsmodels.iolib.summary.Summary'>\n",
       "\"\"\"\n",
       "                            OLS Regression Results                            \n",
       "==============================================================================\n",
       "Dep. Variable:                      y   R-squared:                       0.291\n",
       "Model:                            OLS   Adj. R-squared:                  0.273\n",
       "Method:                 Least Squares   F-statistic:                     16.51\n",
       "Date:                Wed, 06 Mar 2019   Prob (F-statistic):           4.87e-25\n",
       "Time:                        13:11:00   Log-Likelihood:                -737.59\n",
       "No. Observations:                 413   AIC:                             1495.\n",
       "Df Residuals:                     403   BIC:                             1535.\n",
       "Df Model:                          10                                         \n",
       "Covariance Type:            nonrobust                                         \n",
       "==============================================================================\n",
       "                 coef    std err          t      P>|t|      [0.025      0.975]\n",
       "------------------------------------------------------------------------------\n",
       "x1             0.1416      0.072      1.957      0.051      -0.001       0.284\n",
       "x2             0.5628      0.111      5.073      0.000       0.345       0.781\n",
       "x3            -0.5042      0.157     -3.203      0.001      -0.814      -0.195\n",
       "x4            -0.0940      0.077     -1.216      0.225      -0.246       0.058\n",
       "x5             0.0849      0.079      1.069      0.285      -0.071       0.241\n",
       "x6            -0.2706      0.214     -1.262      0.208      -0.692       0.151\n",
       "x7             2.7340      0.624      4.382      0.000       1.507       3.961\n",
       "x8             0.4107      0.320      1.284      0.200      -0.218       1.040\n",
       "x9             3.4600      1.479      2.339      0.020       0.552       6.368\n",
       "x10            1.5411      0.167      9.205      0.000       1.212       1.870\n",
       "==============================================================================\n",
       "Omnibus:                       46.356   Durbin-Watson:                   1.952\n",
       "Prob(Omnibus):                  0.000   Jarque-Bera (JB):               58.784\n",
       "Skew:                           0.880   Prob(JB):                     1.72e-13\n",
       "Kurtosis:                       3.562   Cond. No.                         27.8\n",
       "==============================================================================\n",
       "\n",
       "Warnings:\n",
       "[1] Standard Errors assume that the covariance matrix of the errors is correctly specified.\n",
       "\"\"\""
      ]
     },
     "execution_count": 11,
     "metadata": {},
     "output_type": "execute_result"
    }
   ],
   "source": [
    "estimator = LinearRegression()\n",
    "selector = SelectKBest(f_regression)\n",
    "selector.fit(X_train, y_train)\n",
    "\n",
    "opt = selector.get_support()\n",
    "\n",
    "OLS = sm.OLS(y_train, X_train[:, opt]).fit()\n",
    "OLS.summary()"
   ]
  },
  {
   "cell_type": "code",
   "execution_count": null,
   "metadata": {
    "scrolled": true
   },
   "outputs": [
    {
     "data": {
      "text/plain": [
       "Index(['X', 'DMC', 'DC', 'RH', 'wind', 'rain', 'month_dec', 'month_mar',\n",
       "       'month_may', 'month_sep'],\n",
       "      dtype='object')"
      ]
     },
     "execution_count": 12,
     "metadata": {},
     "output_type": "execute_result"
    }
   ],
   "source": [
    "pd.get_dummies(data.iloc[:, :-1], drop_first=True).columns[opt]"
   ]
  },
  {
   "cell_type": "markdown",
   "metadata": {},
   "source": [
    "# Visualize"
   ]
  },
  {
   "cell_type": "code",
   "execution_count": null,
   "metadata": {},
   "outputs": [],
   "source": [
    "import matplotlib.pyplot as plt\n",
    "import seaborn as sns"
   ]
  },
  {
   "cell_type": "code",
   "execution_count": null,
   "metadata": {},
   "outputs": [],
   "source": [
    "# Plot Training data\n",
    "plt.scatter(X_train, y_train, color='red')\n",
    "sns.regplot(X_train, regressor.predict(X_train), color='blue')\n",
    "plt.title('Training Parameters')\n",
    "plt.show()"
   ]
  },
  {
   "cell_type": "code",
   "execution_count": null,
   "metadata": {},
   "outputs": [],
   "source": [
    "# Plot Test data\n",
    "plt.scatter(X_test, y_test, color='red')\n",
    "sns.regplot(X_test, regressor.predict(X_test), color='blue')\n",
    "plt.title('Test Parameters')\n",
    "plt.show()"
   ]
  }
 ],
 "metadata": {
  "kernelspec": {
   "display_name": "Python [conda env:conda_root]",
   "language": "python",
   "name": "conda-env-conda_root-py"
  },
  "language_info": {
   "codemirror_mode": {
    "name": "ipython",
    "version": 3
   },
   "file_extension": ".py",
   "mimetype": "text/x-python",
   "name": "python",
   "nbconvert_exporter": "python",
   "pygments_lexer": "ipython3",
   "version": "3.6.8"
  }
 },
 "nbformat": 4,
 "nbformat_minor": 2
}
